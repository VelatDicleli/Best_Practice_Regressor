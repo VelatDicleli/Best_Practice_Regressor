{
 "cells": [
  {
   "cell_type": "code",
   "execution_count": null,
   "metadata": {},
   "outputs": [],
   "source": [
    "import pandas as pd\n",
    "import matplotlib.pyplot as plt\n",
    "import numpy as np\n",
    "from sklearn.model_selection import train_test_split\n",
    "from sklearn.svm import SVR\n",
    "from sklearn.preprocessing import StandardScaler\n",
    "from sklearn.preprocessing import LabelEncoder\n",
    "from sklearn.metrics import mean_squared_error\n",
    "from sklearn.linear_model import LinearRegression\n",
    "from sklearn.tree import DecisionTreeRegressor\n",
    "from sklearn.ensemble import RandomForestRegressor\n",
    "from catboost import CatBoostRegressor\n",
    "from lightgbm import LGBMRegressor\n",
    "from xgboost import XGBRegressor\n",
    "from sklearn.neighbors import KNeighborsRegressor\n",
    "\n",
    "\n",
    "RMSE=[]\n",
    "\n",
    "\n",
    "algorithms=[LinearRegression,SVR,\n",
    "            DecisionTreeRegressor,RandomForestRegressor,\n",
    "            CatBoostRegressor,XGBRegressor,\n",
    "          LGBMRegressor ,KNeighborsRegressor]\n",
    "\n",
    "for i in algorithms:\n",
    "    \n",
    "    df=pd.read_csv(\"goldprices.csv\")\n",
    "\n",
    "    #convertation of type\n",
    "\n",
    "    df.drop(df[(df[\"Open\"]==\"-\")&(df[\"Low\"]==\"-\")&(df[\"High\"]==\"-\")&(df[\"Close\"]==\"-\")&(df[\"Adj Close\"]==\"-\")].index,inplace=True)\n",
    "    df.drop(df[(df[\"Volume\"]==\"-\")].index,inplace=True)\n",
    "    df[\"Volume\"]=df[\"Volume\"].str.replace(\",\",\"\").astype(int)\n",
    "    df[\"Open\"] = df[\"Open\"].str.replace(\",\",\"\").astype(float)\n",
    "    df[\"Low\"] = df[\"Low\"].str.replace(\",\",\"\").astype(float)\n",
    "    df[\"Close\"] = df[\"Close\"].str.replace(\",\",\"\").astype(float)\n",
    "    df[\"High\"] = df[\"High\"].str.replace(\",\",\"\").astype(float)\n",
    "    df[\"Adj Close\"] = df[\"Adj Close\"].str.replace(\",\",\"\").astype(float)\n",
    "    df[\"Volume\"]=df[\"Volume\"].astype(int)\n",
    "    df['Date'] =  pd.to_datetime(df['Date'], format='%b %d, %Y')\n",
    "    \n",
    "    \n",
    "    #datetime is an object type and all of columns should be integer as be able to predict along\n",
    "    md=LabelEncoder()\n",
    "    df[\"Date\"]=md.fit_transform(df[\"Date\"])\n",
    "\n",
    "\n",
    "    X=df[[\"Date\",\"Volume\"]]\n",
    "    Y=df[\"Adj Close\"]\n",
    "    \n",
    "    #train-test area\n",
    "    x_train,x_test,y_train,y_test=train_test_split(X,Y,test_size=0.28,random_state=21)\n",
    "    scaler=StandardScaler()\n",
    "\n",
    "    #scaling is required for svr algorithm\n",
    "    x_train=scaler.fit_transform(x_train)\n",
    "    x_test=scaler.fit_transform(x_test)\n",
    "\n",
    "\n",
    "\n",
    "\n",
    "    model=i()\n",
    "    model.fit(x_train,y_train)\n",
    "    pred=model.predict(x_test)\n",
    "\n",
    "  \n",
    "    RMSE.append(f\"{i.__name__} algoritmasinin hata kareler ortalamasinin karekökü =  {np.sqrt(mean_squared_error(y_test,pred))}\")\n",
    "    \n",
    "\n",
    "\n",
    "\n"
   ]
  },
  {
   "cell_type": "code",
   "execution_count": 7,
   "metadata": {},
   "outputs": [
    {
     "name": "stdout",
     "output_type": "stream",
     "text": [
      "LinearRegression algoritmasinin hata kareler ortalamasinin karekökü =  136.70808180244344\n",
      "SVR algoritmasinin hata kareler ortalamasinin karekökü =  143.29112966847796\n",
      "DecisionTreeRegressor algoritmasinin hata kareler ortalamasinin karekökü =  71.27474055805813\n",
      "RandomForestRegressor algoritmasinin hata kareler ortalamasinin karekökü =  69.38728276528167\n",
      "CatBoostRegressor algoritmasinin hata kareler ortalamasinin karekökü =  66.20792550005673\n",
      "XGBRegressor algoritmasinin hata kareler ortalamasinin karekökü =  68.2458329031678\n",
      "LGBMRegressor algoritmasinin hata kareler ortalamasinin karekökü =  67.56912877409408\n",
      "KNeighborsRegressor algoritmasinin hata kareler ortalamasinin karekökü =  73.90937741155827\n"
     ]
    }
   ],
   "source": [
    "# output of entire errors \n",
    "for i in RMSE:\n",
    "    print(i)"
   ]
  },
  {
   "cell_type": "code",
   "execution_count": null,
   "metadata": {},
   "outputs": [],
   "source": []
  }
 ],
 "metadata": {
  "kernelspec": {
   "display_name": "Python 3",
   "language": "python",
   "name": "python3"
  },
  "language_info": {
   "codemirror_mode": {
    "name": "ipython",
    "version": 3
   },
   "file_extension": ".py",
   "mimetype": "text/x-python",
   "name": "python",
   "nbconvert_exporter": "python",
   "pygments_lexer": "ipython3",
   "version": "3.9.0"
  },
  "orig_nbformat": 4
 },
 "nbformat": 4,
 "nbformat_minor": 2
}
